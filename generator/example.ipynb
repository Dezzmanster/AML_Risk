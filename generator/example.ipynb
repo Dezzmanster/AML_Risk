{
 "cells": [
  {
   "cell_type": "code",
   "execution_count": 1,
   "metadata": {},
   "outputs": [],
   "source": [
    "%load_ext autoreload\n",
    "%autoreload 2\n",
    "import generator\n",
    "import featuretools as ft\n",
    "import pandas as pd\n",
    "import os\n",
    "from glob import glob\n",
    "import warnings\n",
    "import datetime as dt\n",
    "warnings.filterwarnings('ignore')"
   ]
  },
  {
   "cell_type": "code",
   "execution_count": 2,
   "metadata": {},
   "outputs": [],
   "source": [
    "pd.set_option('max_colwidth', 3_000)"
   ]
  },
  {
   "cell_type": "markdown",
   "metadata": {},
   "source": [
    "### Много таблиц"
   ]
  },
  {
   "cell_type": "code",
   "execution_count": 3,
   "metadata": {},
   "outputs": [],
   "source": [
    "# Параметры для спецификации нескольких таблиц\n",
    "parameters_many_tables_all_features = {\n",
    "    'path_data': '/Users/antonbaranov/Documents/Python_examples/FeatureGenerator/data',\n",
    "    'tables': {\n",
    "        'app.csv': 'SK_ID_CURR',\n",
    "        'bureau_balance.csv': False,\n",
    "        'bureau.csv': 'SK_ID_BUREAU',\n",
    "        'previous.csv': 'SK_ID_PREV',\n",
    "        'cash.csv': False,\n",
    "        'installments.csv': False,\n",
    "        'credit.csv': False\n",
    "    },  # в качестве значений указываются уникальные индексы для таблиц\n",
    "    'main_table': 'app.csv',  # у main_table ОБЯЗАТЕЛЬНО должен быть уникальный идентификатор\n",
    "    'target': 'TARGET',  # таргет в main_table\n",
    "    'depth': 2,\n",
    "    'relations': [\n",
    "        [('app.csv', 'SK_ID_CURR'), ('bureau.csv', 'SK_ID_CURR')],\n",
    "        [('bureau.csv', 'SK_ID_BUREAU'), ('bureau_balance.csv', 'SK_ID_BUREAU')], \n",
    "        [('app.csv','SK_ID_CURR'), ('previous.csv','SK_ID_CURR')], \n",
    "        [('previous.csv', 'SK_ID_PREV'), ('cash.csv', 'SK_ID_PREV')], \n",
    "        [('previous.csv', 'SK_ID_PREV'), ('installments.csv', 'SK_ID_PREV')], \n",
    "        [('previous.csv', 'SK_ID_PREV'), ('credit.csv', 'SK_ID_PREV')],\n",
    "    ],\n",
    "    'time_indecies': {\n",
    "        'app.csv': False,\n",
    "        'bureau_balance.csv': 'bureau_balance_date',\n",
    "        'bureau.csv': False,\n",
    "        'cash.csv': False,\n",
    "        'credit.csv': 'credit_balance_date',\n",
    "        'installments.csv': 'installments_paid_date', \n",
    "        'previous.csv': False,\n",
    "    },\n",
    "    'time_variables': {\n",
    "        'app.csv': False,\n",
    "        'bureau_balance.csv': ['bureau_balance_date'],\n",
    "        'bureau.csv': ['bureau_credit_application_date', 'bureau_credit_end_date', 'bureau_credit_close_date', 'bureau_credit_update_date'],\n",
    "        'cash.csv': ['cash_balance_date'],\n",
    "        'credit.csv': ['credit_balance_date'],\n",
    "        'installments.csv': ['installments_due_date', 'installments_paid_date'], \n",
    "        'previous.csv': ['previous_decision_date', 'previous_drawing_date', 'previous_first_due_date', 'previous_last_duefirst_date'],\n",
    "    },  # после получения от Ани таблицы с типами, удалить этот словарь, в этих списках должны быть поля time_index'\n",
    "    'sep': ',',  # разделитель в csv файлах\n",
    "    'chunk_size': 0.5,  # количество строчек обрабатываемых за момент времени (если число от 0 до 1 - то это процент строчек), рекомендуется использовать 1/n_jobs\n",
    "    'max_features': 10**5,  # максимальное количество генерируемых фич\n",
    "    'n_jobs': 2,  # количество потоков, в которых запускается генерация фичей\n",
    "    'agg_primitives': ['count', 'max', 'min', 'mean', 'num_unique', 'percent_true', 'all', 'time_since_last'],  # добавлены примитивы для работы с датами\n",
    "#     'agg_primitives': ['max'], # 'min'],\n",
    "#     'trans_primitives': ['percentile'],\n",
    "    'trans_primitives': ['percentile', 'not', 'cum_sum', 'cum_max', 'cum_mean', 'cum_min', 'month', 'day', 'weekday', 'week', 'time_since_previous'],  # добавлены примитивы для работы с датами\n",
    "    'output_file_name': 'fm_many_tables_all_features.csv',\n",
    "    'file_name_for_features': 'fn_many_tables.json',  # имя файла для сохранения списка сгенерированных фич (используется для отбора фич после модуля selector)\n",
    "    'generate_selected_features': False,  # указание на то, что нужно сгенерировать только выбранные фичи модулем selector\n",
    "    'file_with_selected_features': None  # результирующая таблица после модуля selector\n",
    "}\n",
    "\n",
    "parameters_many_tables_selected_features = {\n",
    "    'path_data': '/Users/antonbaranov/Documents/Python_examples/FeatureGenerator/data',\n",
    "    'tables': {\n",
    "        'app.csv': 'SK_ID_CURR',\n",
    "        'bureau_balance.csv': False,\n",
    "        'bureau.csv': 'SK_ID_BUREAU',\n",
    "        'previous.csv': 'SK_ID_PREV',\n",
    "        'cash.csv': False,\n",
    "        'installments.csv': False,\n",
    "        'credit.csv': False\n",
    "    },  # в качестве значений указываются уникальные индексы для таблиц\n",
    "    'main_table': 'app.csv',  # у main_table ОБЯЗАТЕЛЬНО должен быть уникальный идентификатор\n",
    "    'target': 'TARGET',  # таргет в main_table\n",
    "    'depth': 2,\n",
    "    'relations': [\n",
    "        [('app.csv', 'SK_ID_CURR'), ('bureau.csv', 'SK_ID_CURR')],\n",
    "        [('bureau.csv', 'SK_ID_BUREAU'), ('bureau_balance.csv', 'SK_ID_BUREAU')], \n",
    "        [('app.csv','SK_ID_CURR'), ('previous.csv','SK_ID_CURR')], \n",
    "        [('previous.csv', 'SK_ID_PREV'), ('cash.csv', 'SK_ID_PREV')], \n",
    "        [('previous.csv', 'SK_ID_PREV'), ('installments.csv', 'SK_ID_PREV')], \n",
    "        [('previous.csv', 'SK_ID_PREV'), ('credit.csv', 'SK_ID_PREV')],\n",
    "    ],\n",
    "    'time_indecies': {\n",
    "        'app.csv': False,\n",
    "        'bureau_balance.csv': 'bureau_balance_date',\n",
    "        'bureau.csv': False,\n",
    "        'cash.csv': False,\n",
    "        'credit.csv': 'credit_balance_date',\n",
    "        'installments.csv': 'installments_paid_date', \n",
    "        'previous.csv': False,\n",
    "    },\n",
    "    'time_variables': {\n",
    "        'app.csv': False,\n",
    "        'bureau_balance.csv': ['bureau_balance_date'],\n",
    "        'bureau.csv': ['bureau_credit_application_date', 'bureau_credit_end_date', 'bureau_credit_close_date', 'bureau_credit_update_date'],\n",
    "        'cash.csv': ['cash_balance_date'],\n",
    "        'credit.csv': ['credit_balance_date'],\n",
    "        'installments.csv': ['installments_due_date', 'installments_paid_date'], \n",
    "        'previous.csv': ['previous_decision_date', 'previous_drawing_date', 'previous_first_due_date', 'previous_last_duefirst_date'],\n",
    "    },  # после получения от Ани таблицы с типами, удалить этот словарь, в этих списках должны быть поля time_index'\n",
    "    'sep': ',',  # разделитель в csv файлах\n",
    "    'chunk_size': 0.5,  # количество строчек обрабатываемых за момент времени (если число от 0 до 1 - то это процент строчек), рекомендуется использовать 1/n_jobs\n",
    "    'max_features': 10**5,  # максимальное количество генерируемых фич\n",
    "    'n_jobs': 2,  # количество потоков, в которых запускается генерация фичей\n",
    "    'agg_primitives': ['count', 'max', 'min', 'mean', 'num_unique', 'percent_true', 'all', 'time_since_last'],  # добавлены примитивы для работы с датами\n",
    "#     'agg_primitives': ['max'], # 'min'],\n",
    "#     'trans_primitives': ['percentile'],\n",
    "    'trans_primitives': ['percentile', 'not', 'cum_sum', 'cum_max', 'cum_mean', 'cum_min', 'month', 'day', 'weekday', 'week', 'time_since_previous'],  # добавлены примитивы для работы с датами\n",
    "    'output_file_name': 'fm_many_tables_selected_features.csv',\n",
    "    'file_name_for_features': 'fn_many_tables.json',  # имя файла для сохранения списка сгенерированных фич (используется для отбора фич после модуля selector)\n",
    "    'generate_selected_features': True,  # указание на то, что нужно сгенерировать только выбранные фичи модулем selector\n",
    "    'file_with_selected_features': '/Users/antonbaranov/Documents/Python_examples/FeatureGenerator/data/short_df_sample.csv'  # результирующая таблица после модуля selector\n",
    "}"
   ]
  },
  {
   "cell_type": "code",
   "execution_count": 4,
   "metadata": {},
   "outputs": [
    {
     "name": "stdout",
     "output_type": "stream",
     "text": [
      "Built 2462 features\n",
      "EntitySet scattered to 2 workers in 205 seconds\n",
      "Elapsed: 25:44 | Progress:  95%|█████████▌"
     ]
    },
    {
     "name": "stderr",
     "output_type": "stream",
     "text": [
      "distributed.nanny - WARNING - Worker process still alive after 3 seconds, killing\n",
      "distributed.nanny - WARNING - Worker process still alive after 3 seconds, killing\n"
     ]
    },
    {
     "name": "stdout",
     "output_type": "stream",
     "text": [
      "Elapsed: 26:08 | Progress: 100%|██████████\n",
      "CPU times: user 10min 36s, sys: 1min 44s, total: 12min 21s\n",
      "Wall time: 38min 50s\n"
     ]
    }
   ],
   "source": [
    "%%time\n",
    "# Запуск генератора для нескольких таблиц и всех фич\n",
    "fg_many_tables_all_features = generator.FeatureGenerator(parameters_many_tables_all_features)\n",
    "fg_many_tables_all_features()"
   ]
  },
  {
   "cell_type": "code",
   "execution_count": 4,
   "metadata": {},
   "outputs": [
    {
     "name": "stdout",
     "output_type": "stream",
     "text": [
      "EntitySet scattered to 2 workers in 57 seconds\n",
      "Elapsed: 05:42 | Progress: 100%|██████████\n",
      "CPU times: user 3min 16s, sys: 19.7 s, total: 3min 35s\n",
      "Wall time: 9min 57s\n"
     ]
    }
   ],
   "source": [
    "%%time\n",
    "# Запуск генератора для нескольких таблиц и отобранных фич\n",
    "fg_many_tables_selected_features = generator.FeatureGenerator(parameters_many_tables_selected_features)\n",
    "fg_many_tables_selected_features()"
   ]
  },
  {
   "cell_type": "markdown",
   "metadata": {},
   "source": [
    "### Одна таблица"
   ]
  },
  {
   "cell_type": "code",
   "execution_count": 31,
   "metadata": {},
   "outputs": [],
   "source": [
    "# Параметры для спецификации одной таблицы таблиц\n",
    "parameters_one_table_all_features = {\n",
    "    'path_data': '/Users/antonbaranov/Documents/Python_examples/FeatureGenerator/data',\n",
    "    'tables': {\n",
    "        'bureau_balance.csv': False,\n",
    "    }, # в качестве значений указываются уникальные индексы для таблиц\n",
    "    'main_table': 'bureau_balance.csv', # у main_table ОБЯЗАТЕЛЬНО должен быть уникальный идентификатор\n",
    "    'target': 'STATUS',\n",
    "    'depth': 2,\n",
    "    'relations': [],\n",
    "    'time_indecies': {\n",
    "        'bureau_balance.csv': 'bureau_balance_date'\n",
    "    },\n",
    "    'time_variables': {\n",
    "        'bureau_balance.csv': ['bureau_balance_date'],\n",
    "    },  # после получения от Ани таблицы с типами, удалить этот словарь, в этих списках должны быть поля time_index'\n",
    "    'sep': ',', # разделитель в csv файлах\n",
    "    'chunk_size': 0.5, # количество строчек обрабатываемых за момент времени (если число от 0 до 1 - то это процент строчек)\n",
    "    'max_features': 10**5, # максимальное количество генерируемых фич\n",
    "    'n_jobs': 2, # количество потоков, в которых запускается генерация фичей\n",
    "#     'agg_primitives': ['count', 'max', 'min', 'median', 'mean', 'num_unique', 'sum'],\n",
    "    'agg_primitives': ['max'], # 'min'],\n",
    "    'trans_primitives': ['year', 'day', 'weekday', 'month'], # 'cum_sum'],\n",
    "    'output_file_name': 'fm_one_table.csv',\n",
    "    'file_name_for_features': 'fn_one_tables.json',  # имя файла для сохранения списка сгенерированных фич (используется для отбора фич после модуля selector)\n",
    "    'generate_selected_features': False,  # указание на то, что нужно сгенерировать только выбранные фичи модулем selector\n",
    "    'file_with_selected_features': None  # результирующая таблица после модуля selector\n",
    "}\n",
    "\n",
    "parameters_one_table_selected_features = {\n",
    "    'path_data': '/Users/antonbaranov/Documents/Python_examples/FeatureGenerator/data',\n",
    "    'tables': {\n",
    "        'bureau_balance.csv': False,\n",
    "    }, # в качестве значений указываются уникальные индексы для таблиц\n",
    "    'main_table': 'bureau_balance.csv', # у main_table ОБЯЗАТЕЛЬНО должен быть уникальный идентификатор\n",
    "    'target': 'STATUS',\n",
    "    'depth': 2,\n",
    "    'relations': [],\n",
    "    'time_indecies': {\n",
    "        'bureau_balance.csv': 'bureau_balance_date'\n",
    "    },\n",
    "    'time_variables': {\n",
    "        'bureau_balance.csv': ['bureau_balance_date'],\n",
    "    },  # после получения от Ани таблицы с типами, удалить этот словарь, в этих списках должны быть поля time_index'\n",
    "    'sep': ',', # разделитель в csv файлах\n",
    "    'chunk_size': 0.5, # количество строчек обрабатываемых за момент времени (если число от 0 до 1 - то это процент строчек)\n",
    "    'max_features': 10**5, # максимальное количество генерируемых фич\n",
    "    'n_jobs': 2, # количество потоков, в которых запускается генерация фичей\n",
    "#     'agg_primitives': ['count', 'max', 'min', 'median', 'mean', 'num_unique', 'sum'],\n",
    "    'agg_primitives': ['max'], # 'min'],\n",
    "    'trans_primitives': ['year', 'day', 'weekday', 'month'], # 'cum_sum'],\n",
    "    'output_file_name': 'fm_one_table_selected_features.csv',\n",
    "    'file_name_for_features': 'fn_one_tables.json',  # имя файла для сохранения списка сгенерированных фич (используется для отбора фич после модуля selector)\n",
    "    'generate_selected_features': True,  # указание на то, что нужно сгенерировать только выбранные фичи модулем selector\n",
    "    'file_with_selected_features': '/Users/antonbaranov/Documents/Python_examples/FeatureGenerator/data/short_df_sample_from_one_table.csv'  # результирующая таблица после модуля selector\n",
    "}"
   ]
  },
  {
   "cell_type": "code",
   "execution_count": 25,
   "metadata": {},
   "outputs": [
    {
     "name": "stdout",
     "output_type": "stream",
     "text": [
      "Built 6 features\n",
      "EntitySet scattered to 2 workers in 11 seconds\n",
      "Elapsed: 00:37 | Progress: 100%|██████████\n",
      "CPU times: user 51.2 s, sys: 7.71 s, total: 58.9 s\n",
      "Wall time: 1min 35s\n"
     ]
    }
   ],
   "source": [
    "%%time\n",
    "# Запуск генератора для одной таблицы и всех фич\n",
    "fg_one_table_all_features = generator.FeatureGenerator(parameters_one_table_all_features)\n",
    "fg_one_table_all_features()"
   ]
  },
  {
   "cell_type": "code",
   "execution_count": 32,
   "metadata": {},
   "outputs": [
    {
     "name": "stdout",
     "output_type": "stream",
     "text": [
      "EntitySet scattered to 2 workers in 11 seconds\n",
      "Elapsed: 00:35 | Progress: 100%|██████████\n",
      "CPU times: user 52 s, sys: 7.42 s, total: 59.4 s\n",
      "Wall time: 1min 33s\n"
     ]
    }
   ],
   "source": [
    "%%time\n",
    "# Запуск генератора для одной таблицы и отобранных фич\n",
    "fg_one_table_selected_features = generator.FeatureGenerator(parameters_one_table_selected_features)\n",
    "fg_one_table_selected_features()"
   ]
  },
  {
   "cell_type": "code",
   "execution_count": null,
   "metadata": {},
   "outputs": [],
   "source": []
  },
  {
   "cell_type": "code",
   "execution_count": null,
   "metadata": {},
   "outputs": [],
   "source": []
  },
  {
   "cell_type": "code",
   "execution_count": null,
   "metadata": {},
   "outputs": [],
   "source": []
  },
  {
   "cell_type": "code",
   "execution_count": 37,
   "metadata": {},
   "outputs": [],
   "source": [
    "# primitives = ft.list_primitives()\n",
    "# print(primitives.shape)\n",
    "\n",
    "# primitives[primitives['type'] == 'aggregation']"
   ]
  },
  {
   "cell_type": "code",
   "execution_count": 38,
   "metadata": {},
   "outputs": [],
   "source": [
    "# primitives[primitives['type'] == 'transform']"
   ]
  },
  {
   "cell_type": "code",
   "execution_count": null,
   "metadata": {},
   "outputs": [],
   "source": []
  }
 ],
 "metadata": {
  "kernelspec": {
   "display_name": "py36_automl_ft",
   "language": "python",
   "name": "py36_automl_ft"
  },
  "language_info": {
   "codemirror_mode": {
    "name": "ipython",
    "version": 3
   },
   "file_extension": ".py",
   "mimetype": "text/x-python",
   "name": "python",
   "nbconvert_exporter": "python",
   "pygments_lexer": "ipython3",
   "version": "3.6.11"
  }
 },
 "nbformat": 4,
 "nbformat_minor": 2
}
