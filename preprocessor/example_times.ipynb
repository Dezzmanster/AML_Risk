{
  "nbformat": 4,
  "nbformat_minor": 0,
  "metadata": {
    "colab": {
      "name": "example-times.ipynb",
      "provenance": []
    },
    "kernelspec": {
      "name": "python3",
      "display_name": "Python 3"
    }
  },
  "cells": [
    {
      "cell_type": "code",
      "metadata": {
        "id": "Sryo82BS1PQ-"
      },
      "source": [
        "import datetime as dt\n",
        "import pandas as pd\n",
        "import numpy as np\n",
        "\n",
        "import os, copy, time\n",
        "from pathlib import Path\n",
        "\n",
        "import pandas as pd\n",
        "import numpy as np\n",
        "\n",
        "import multiprocessing as mp\n",
        "from multiprocessing import Pool"
      ],
      "execution_count": 1,
      "outputs": []
    },
    {
      "cell_type": "code",
      "metadata": {
        "id": "9ejqiAa-4V8A"
      },
      "source": [
        "class FEncoding(object):\n",
        "    def __init__(self, n_jobs = 1, chunks = None, path = None):      \n",
        "        \n",
        "        self.categor_types = ['object', 'bool', 'int32', 'int64']\n",
        "        self.numer_types = ['float', 'float32', 'float64']\n",
        "        self.time_types = ['datetime64[ns]', 'datetime64[ns, tz]'] \n",
        "        # What else? https://pandas.pydata.org/pandas-docs/stable/user_guide/timeseries.html\n",
        "\n",
        "        if n_jobs == None:\n",
        "            self.n_jobs = 1\n",
        "        elif n_jobs == -1:\n",
        "            self.n_jobs = mp.cpu_count()\n",
        "        else:\n",
        "            self.n_jobs = n_jobs        \n",
        "        self.chunks = chunks\n",
        "        self.path = path\n",
        "    \n",
        "    def date_replace_(self, X):\n",
        "        def pars_date(x):\n",
        "            fmts = ('%Y', '%b %d, %Y','%b %d, %Y','%B %d, %Y','%B %d %Y','%m/%d/%Y','%m/%d/%y','%b %Y','%B%Y','%b %d,%Y', \n",
        "                      '%d.%m.%Y', '%Y.%m.%d', '%d-%m-%Y', '%Y-%m-%d %H:%M:%S')\n",
        "            t = True\n",
        "            if str(x.dtype) == 'object':\n",
        "              for fmt in fmts:\n",
        "                  try:\n",
        "                      return pd.Series([dt.datetime.strptime(str(x.iloc[i]), fmt) for i in range(len(x))]).apply(lambda q: q.strftime('%m/%d/%Y')).astype('datetime64[ns]')\n",
        "                      t = False\n",
        "                      break \n",
        "                  except ValueError as err:\n",
        "                      pass\n",
        "            if t and (len(str(x.iloc[0])) > 12):\n",
        "              try:\n",
        "                  x = x.astype('float')\n",
        "                  return pd.Series([dt.datetime.fromtimestamp(x.iloc[i]) for i in range(len(x))]).apply(lambda q: q.strftime('%m/%d/%Y')).astype('datetime64[ns]')\n",
        "              except ValueError as err:\n",
        "                  pass\n",
        "        \n",
        "        for column in X.columns:\n",
        "            x = pars_date(X[column])\n",
        "            try: \n",
        "              x.nunique()\n",
        "              X[column] = x\n",
        "            except AttributeError:\n",
        "              pass\n",
        "\n",
        "        return X\n",
        "\n",
        "    def initialize_types_(self, X):\n",
        "        # Sometimes categorical feature can be presented with a float type.\n",
        "        # Sometimes numerical feature can be presented with an int type.  \n",
        "        # Let's check for that  \n",
        "        for column in X.columns:\n",
        "            c_type = str(X[column].dtype) \n",
        "            unique_values_X = X[column].unique()        \n",
        "            if any(c_type == t for t in self.numer_types) & (len(unique_values_X) < 20):\n",
        "                print('\\n {} has type {} and number of unique values: {}, will be considered as a categorical \\n'.format(column, c_type, len(unique_values_X)))\n",
        "                self.categor_columns.append(column)\n",
        "            elif any(c_type == t for t in self.categor_types) & (len(unique_values_X) > 20):\n",
        "                print('\\n {} has type {} and number of unique values: {}, will be considered as a numerical \\n'.format(column, c_type, len(unique_values_X)))\n",
        "                self.numer_columns.append(column)\n",
        "            elif any(c_type == t for t in self.categor_types):\n",
        "                self.categor_columns.append(column)\n",
        "            elif any(c_type == t for t in self.time_types):\n",
        "                self.time_columns.append(column)            \n",
        "            else:\n",
        "                self.numer_columns.append(column)\n",
        "        return self.categor_columns, self.numer_columns, self.time_columns\n",
        "    \n",
        "    def bucket_numerical_(self, X):\n",
        "        # TODO: specify or introduce a criterion which columns to bake\n",
        "        # K-bins discretization based on quantization\n",
        "\n",
        "        def get_input_keypoints(f_data, n_kps):\n",
        "            while len(np.quantile(f_data, np.linspace(0.0, 1.0, num=n_kps))) != len(np.unique(np.quantile(f_data, np.linspace(0.0, 1.0, num=n_kps)))):\n",
        "                n_kps -= 1\n",
        "            return np.quantile(f_data, np.linspace(0.0, 1.0, num=n_kps))\n",
        "\n",
        "        if self.columns_to_buck == 'all_numerical':\n",
        "            self.columns_to_buck = self.numer_columns            \n",
        "        if type(self.columns_to_buck) != list:\n",
        "            raise VlaueError('Identify list of columns_to_buck')\n",
        "\n",
        "        for column in X.columns:\n",
        "            if any(column == col for col in self.columns_to_buck):\n",
        "                print('\\n {} bucketing ...'.format(column))\n",
        "                f_X = X[column].values.ravel()\n",
        "                X[column + '_bucketed'] = np.digitize(f_X, get_input_keypoints(f_X, self.n_bins))\n",
        "                if self.drop_current:\n",
        "                    X.drop(columns=[column], inplace=True)\n",
        "        return X\n",
        "\n",
        "    def encode_categor_(self, X, method = 'OrdinalEncoder'):    \n",
        "        if self.method == 'OrdinalEncoder':\n",
        "            X = X.astype('object').fillna(-1)\n",
        "            enc = preprocessing.OrdinalEncoder(dtype='int')\n",
        "            X = pd.DataFrame(enc.fit_transform(X), columns = X.columns)\n",
        "        if self.method == 'OneHotEncoder':  \n",
        "            X = X.astype('object')\n",
        "            X = pd.get_dummies(X)\n",
        "        return X\n",
        "\n",
        "    \n",
        "    def initialize_types(self, X):\n",
        "        self.categor_columns, self.numer_columns, self.time_columns = [], [], []\n",
        "        if self.chunks == None:\n",
        "            self.chunks  = int(len(X.columns)/self.n_jobs)\n",
        "        return_ = Pool(processes = self.n_jobs).map(self.initialize_types_, \n",
        "                                 [X[list(X.columns)[start: start + self.chunks]] for start in range(0, len(X.columns), self.chunks)]\n",
        "                                 )\n",
        "        \n",
        "        for i in range(len(return_)):\n",
        "            categor_columns, numer_columns, time_columns = return_[i]\n",
        "            self.categor_columns += categor_columns\n",
        "            self.numer_columns += numer_columns\n",
        "            self.time_columns += time_columns\n",
        "        return {'categor_columns': self.categor_columns,\n",
        "                           'numer_columns': self.numer_columns,\n",
        "                           'time_columns': self.time_columns       \n",
        "         }\n",
        "\n",
        "    def bucket_numerical(self, X, \n",
        "                         n_bins=5, columns_to_buck = 'all_numerical', \n",
        "                         drop_current = False):      \n",
        "        self.n_bins = n_bins\n",
        "        self.columns_to_buck = columns_to_buck\n",
        "        self.drop_current = drop_current\n",
        "        self.initialize_types(X)\n",
        "        if self.chunks == None:\n",
        "              self.chunks  = int(len(X.columns)/self.n_jobs)\n",
        "        X =  pd.concat(Pool(processes = self.n_jobs).map(self.bucket_numerical_, \n",
        "                                [X[list(X.columns)[start: start + self.chunks]] for start in range(0, len(X.columns), self.chunks)]\n",
        "                                ), axis=1)\n",
        "        if self.path != None:\n",
        "              X.to_csv(self.path)\n",
        "        return X\n",
        "\n",
        "    def encode_categor(self, X, method = 'OrdinalEncoder'):\n",
        "        self.method = method\n",
        "        self.initialize_types(X)        \n",
        "        if self.chunks == None:\n",
        "            self.chunks  = int(len(X.columns)/self.n_jobs)\n",
        "\n",
        "        categor_columns = [i for i in self.categor_columns if i in list(X.columns)]\n",
        "        numer_columns = [i for i in self.numer_columns if i in list(X.columns)]\n",
        "        \n",
        "        X_cat =  pd.concat(Pool(processes = self.n_jobs).map(self.encode_categor_, \n",
        "                                [X[categor_columns[start: start + self.chunks]] for start in range(0, len(categor_columns), self.chunks)]\n",
        "                                ), axis=1)\n",
        "\n",
        "        X = pd.concat([X[numer_columns],X_cat], axis=1)  \n",
        "\n",
        "        \n",
        "        if self.path != None:\n",
        "              X.to_csv(self.path)\n",
        "        return X\n",
        "\n",
        "    def date_replace(self, X):\n",
        "        if self.chunks == None:\n",
        "            self.chunks  = int(len(X.columns)/self.n_jobs)        \n",
        "        X =  pd.concat(Pool(processes = self.n_jobs).map(self.date_replace_, \n",
        "                                [X[list(X.columns)[start: start + self.chunks]] for start in range(0, len(X.columns), self.chunks)]\n",
        "                                ), axis=1)  \n",
        "    \n",
        "        print('\\n time_columns:', self.initialize_types(X)['time_columns']) \n",
        "        if self.path != None:\n",
        "            X.to_csv(self.path)\n",
        "        return X"
      ],
      "execution_count": 2,
      "outputs": []
    },
    {
      "cell_type": "code",
      "metadata": {
        "id": "EvAHnduR49bq",
        "outputId": "ca7f75f0-9569-4574-9a9b-4435a3ee304a",
        "colab": {
          "base_uri": "https://localhost:8080/",
          "height": 107
        }
      },
      "source": [
        "X = pd.DataFrame([\n",
        "'Jan 19, 1990',\n",
        "'January 19, 1990',\n",
        "'Jan 19,1990',\n",
        "'01/19/1990',\n",
        "'01/19/90',\n",
        "'1990',\n",
        "'Jan 1990',\n",
        "'01.02.2000',\n",
        "'2000.02.01',\n",
        "'01-02-2000',\n",
        "'2111-01-01 12:48:20',\n",
        "'123',\n",
        "'abs 123', \n",
        "1339521878.04,\n",
        "'1339521878.04'\n",
        "]).T\n",
        "X = X.append(X)\n",
        "X"
      ],
      "execution_count": 3,
      "outputs": [
        {
          "output_type": "execute_result",
          "data": {
            "text/html": [
              "<div>\n",
              "<style scoped>\n",
              "    .dataframe tbody tr th:only-of-type {\n",
              "        vertical-align: middle;\n",
              "    }\n",
              "\n",
              "    .dataframe tbody tr th {\n",
              "        vertical-align: top;\n",
              "    }\n",
              "\n",
              "    .dataframe thead th {\n",
              "        text-align: right;\n",
              "    }\n",
              "</style>\n",
              "<table border=\"1\" class=\"dataframe\">\n",
              "  <thead>\n",
              "    <tr style=\"text-align: right;\">\n",
              "      <th></th>\n",
              "      <th>0</th>\n",
              "      <th>1</th>\n",
              "      <th>2</th>\n",
              "      <th>3</th>\n",
              "      <th>4</th>\n",
              "      <th>5</th>\n",
              "      <th>6</th>\n",
              "      <th>7</th>\n",
              "      <th>8</th>\n",
              "      <th>9</th>\n",
              "      <th>10</th>\n",
              "      <th>11</th>\n",
              "      <th>12</th>\n",
              "      <th>13</th>\n",
              "      <th>14</th>\n",
              "    </tr>\n",
              "  </thead>\n",
              "  <tbody>\n",
              "    <tr>\n",
              "      <th>0</th>\n",
              "      <td>Jan 19, 1990</td>\n",
              "      <td>January 19, 1990</td>\n",
              "      <td>Jan 19,1990</td>\n",
              "      <td>01/19/1990</td>\n",
              "      <td>01/19/90</td>\n",
              "      <td>1990</td>\n",
              "      <td>Jan 1990</td>\n",
              "      <td>01.02.2000</td>\n",
              "      <td>2000.02.01</td>\n",
              "      <td>01-02-2000</td>\n",
              "      <td>2111-01-01 12:48:20</td>\n",
              "      <td>123</td>\n",
              "      <td>abs 123</td>\n",
              "      <td>1.33952e+09</td>\n",
              "      <td>1339521878.04</td>\n",
              "    </tr>\n",
              "    <tr>\n",
              "      <th>0</th>\n",
              "      <td>Jan 19, 1990</td>\n",
              "      <td>January 19, 1990</td>\n",
              "      <td>Jan 19,1990</td>\n",
              "      <td>01/19/1990</td>\n",
              "      <td>01/19/90</td>\n",
              "      <td>1990</td>\n",
              "      <td>Jan 1990</td>\n",
              "      <td>01.02.2000</td>\n",
              "      <td>2000.02.01</td>\n",
              "      <td>01-02-2000</td>\n",
              "      <td>2111-01-01 12:48:20</td>\n",
              "      <td>123</td>\n",
              "      <td>abs 123</td>\n",
              "      <td>1.33952e+09</td>\n",
              "      <td>1339521878.04</td>\n",
              "    </tr>\n",
              "  </tbody>\n",
              "</table>\n",
              "</div>"
            ],
            "text/plain": [
              "             0                 1   ...           13             14\n",
              "0  Jan 19, 1990  January 19, 1990  ...  1.33952e+09  1339521878.04\n",
              "0  Jan 19, 1990  January 19, 1990  ...  1.33952e+09  1339521878.04\n",
              "\n",
              "[2 rows x 15 columns]"
            ]
          },
          "metadata": {
            "tags": []
          },
          "execution_count": 3
        }
      ]
    },
    {
      "cell_type": "code",
      "metadata": {
        "id": "E-5AwQXbAxgl"
      },
      "source": [
        "fencoding = FEncoding(-1)"
      ],
      "execution_count": 4,
      "outputs": []
    },
    {
      "cell_type": "code",
      "metadata": {
        "id": "rRy8FdRzA44-",
        "outputId": "81ccb119-0cc0-4473-d1ae-4d72144e3978",
        "colab": {
          "base_uri": "https://localhost:8080/",
          "height": 67
        }
      },
      "source": [
        "fencoding.initialize_types(X)"
      ],
      "execution_count": 5,
      "outputs": [
        {
          "output_type": "execute_result",
          "data": {
            "text/plain": [
              "{'categor_columns': [0, 1, 2, 3, 4, 5, 6, 7, 8, 9, 10, 11, 12, 13, 14],\n",
              " 'numer_columns': [],\n",
              " 'time_columns': []}"
            ]
          },
          "metadata": {
            "tags": []
          },
          "execution_count": 5
        }
      ]
    },
    {
      "cell_type": "code",
      "metadata": {
        "id": "PNA-m9IeBCe2",
        "outputId": "732e073e-d880-44b9-9dc7-796f6111547e",
        "colab": {
          "base_uri": "https://localhost:8080/",
          "height": 141
        }
      },
      "source": [
        "X = fencoding.date_replace(X)\n",
        "X"
      ],
      "execution_count": 6,
      "outputs": [
        {
          "output_type": "stream",
          "text": [
            "\n",
            " time_columns: [0, 1, 2, 3, 4, 5, 6, 7, 8, 9, 10, 13, 14]\n"
          ],
          "name": "stdout"
        },
        {
          "output_type": "execute_result",
          "data": {
            "text/html": [
              "<div>\n",
              "<style scoped>\n",
              "    .dataframe tbody tr th:only-of-type {\n",
              "        vertical-align: middle;\n",
              "    }\n",
              "\n",
              "    .dataframe tbody tr th {\n",
              "        vertical-align: top;\n",
              "    }\n",
              "\n",
              "    .dataframe thead th {\n",
              "        text-align: right;\n",
              "    }\n",
              "</style>\n",
              "<table border=\"1\" class=\"dataframe\">\n",
              "  <thead>\n",
              "    <tr style=\"text-align: right;\">\n",
              "      <th></th>\n",
              "      <th>0</th>\n",
              "      <th>1</th>\n",
              "      <th>2</th>\n",
              "      <th>3</th>\n",
              "      <th>4</th>\n",
              "      <th>5</th>\n",
              "      <th>6</th>\n",
              "      <th>7</th>\n",
              "      <th>8</th>\n",
              "      <th>9</th>\n",
              "      <th>10</th>\n",
              "      <th>11</th>\n",
              "      <th>12</th>\n",
              "      <th>13</th>\n",
              "      <th>14</th>\n",
              "    </tr>\n",
              "  </thead>\n",
              "  <tbody>\n",
              "    <tr>\n",
              "      <th>0</th>\n",
              "      <td>1990-01-19</td>\n",
              "      <td>1990-01-19</td>\n",
              "      <td>1990-01-19</td>\n",
              "      <td>1990-01-19</td>\n",
              "      <td>1990-01-19</td>\n",
              "      <td>1990-01-01</td>\n",
              "      <td>1990-01-01</td>\n",
              "      <td>2000-02-01</td>\n",
              "      <td>2000-02-01</td>\n",
              "      <td>2000-02-01</td>\n",
              "      <td>2111-01-01</td>\n",
              "      <td>123</td>\n",
              "      <td>abs 123</td>\n",
              "      <td>2012-06-12</td>\n",
              "      <td>2012-06-12</td>\n",
              "    </tr>\n",
              "    <tr>\n",
              "      <th>0</th>\n",
              "      <td>1990-01-19</td>\n",
              "      <td>1990-01-19</td>\n",
              "      <td>1990-01-19</td>\n",
              "      <td>1990-01-19</td>\n",
              "      <td>1990-01-19</td>\n",
              "      <td>1990-01-01</td>\n",
              "      <td>1990-01-01</td>\n",
              "      <td>2000-02-01</td>\n",
              "      <td>2000-02-01</td>\n",
              "      <td>2000-02-01</td>\n",
              "      <td>2111-01-01</td>\n",
              "      <td>123</td>\n",
              "      <td>abs 123</td>\n",
              "      <td>2012-06-12</td>\n",
              "      <td>2012-06-12</td>\n",
              "    </tr>\n",
              "  </tbody>\n",
              "</table>\n",
              "</div>"
            ],
            "text/plain": [
              "          0          1          2   ...       12         13         14\n",
              "0 1990-01-19 1990-01-19 1990-01-19  ...  abs 123 2012-06-12 2012-06-12\n",
              "0 1990-01-19 1990-01-19 1990-01-19  ...  abs 123 2012-06-12 2012-06-12\n",
              "\n",
              "[2 rows x 15 columns]"
            ]
          },
          "metadata": {
            "tags": []
          },
          "execution_count": 6
        }
      ]
    },
    {
      "cell_type": "code",
      "metadata": {
        "id": "STYV9RpCBKkP",
        "outputId": "192a89b0-a32c-4ab0-c001-97717cfb7252",
        "colab": {
          "base_uri": "https://localhost:8080/",
          "height": 67
        }
      },
      "source": [
        "fencoding.initialize_types(X)"
      ],
      "execution_count": 7,
      "outputs": [
        {
          "output_type": "execute_result",
          "data": {
            "text/plain": [
              "{'categor_columns': [11, 12],\n",
              " 'numer_columns': [],\n",
              " 'time_columns': [0, 1, 2, 3, 4, 5, 6, 7, 8, 9, 10, 13, 14]}"
            ]
          },
          "metadata": {
            "tags": []
          },
          "execution_count": 7
        }
      ]
    },
    {
      "cell_type": "code",
      "metadata": {
        "id": "DSsgE0GxBRhO"
      },
      "source": [
        ""
      ],
      "execution_count": 7,
      "outputs": []
    }
  ]
}