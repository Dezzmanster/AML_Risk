{
 "cells": [
  {
   "cell_type": "code",
   "execution_count": 7,
   "metadata": {},
   "outputs": [
    {
     "data": {
      "text/plain": [
       "4"
      ]
     },
     "execution_count": 7,
     "metadata": {},
     "output_type": "execute_result"
    }
   ],
   "source": [
    "import time\n",
    "import pandas as pd\n",
    "import numpy as np\n",
    "import datetime as dt\n",
    "from sklearn import preprocessing\n",
    "import multiprocessing as mp\n",
    "import warnings\n",
    "warnings.filterwarnings('ignore')\n",
    "\n",
    "mp.cpu_count()"
   ]
  },
  {
   "cell_type": "code",
   "execution_count": 8,
   "metadata": {},
   "outputs": [],
   "source": [
    "from fencoding_CPUs import (save_to_csv,\n",
    "                               reduce_mem_usage,\n",
    "                               EmptyElim,\n",
    "                               FEncoding,\n",
    "                               OutlDetect,\n",
    "                               FImputation\n",
    "                               )"
   ]
  },
  {
   "cell_type": "code",
   "execution_count": 9,
   "metadata": {},
   "outputs": [],
   "source": [
    "from pathlib import Path\n",
    "# home-credit-default-risk tables\n",
    "if not Path(\"data/application_train.csv\").is_file():\n",
    "    ! wget https://www.dropbox.com/s/j9xwcj9ixki5t2l/home-credit-default-risk.zip?dl=0 -O data.zip\n",
    "    ! unzip -q data.zip\n",
    "    ! rm data.zip\n",
    "# default-of-credit-card-clients-dataset\n",
    "if not Path(\"data/default_ucr.csv\").is_file():\n",
    "    ! wget https://www.dropbox.com/s/lj0d7qez18ea7dx/UCI_Credit_Card.csv?dl=0 -O default_ucr.csv"
   ]
  },
  {
   "cell_type": "code",
   "execution_count": 10,
   "metadata": {},
   "outputs": [],
   "source": [
    "# Read in the source datasets\n",
    "dict = {\n",
    "    'datasets':[\n",
    "                # home-credit-default-risk tables\n",
    "                pd.read_csv('data/application_train.csv'),\n",
    "                # default-of-credit-card-clients-datasets\n",
    "                pd.read_csv('data/default_ucr.csv'),\n",
    "    ],\n",
    "    'name_dropped_columns':\n",
    "                [\n",
    "                 # home-credit-default-risk tables\n",
    "                 ['SK_ID_CURR', 'TARGET'],\n",
    "                 # default-of-credit-card-clients-datasets\n",
    "                 ['ID', 'default.payment.next.month']              \n",
    "    ],   \n",
    "}\n",
    "# Keep ID and target columns separately\n",
    "dict['dropped_columns'] = [dict['datasets'][i][dict['name_dropped_columns'][i]] for i in range(len(dict['datasets']))]\n",
    "# Drop ID and target columns from the tables\n",
    "dict['datasets'] = [dict['datasets'][i].drop(dict['name_dropped_columns'][i], axis=1) for i in range(len(dict['datasets']))]"
   ]
  },
  {
   "cell_type": "code",
   "execution_count": 12,
   "metadata": {},
   "outputs": [
    {
     "name": "stdout",
     "output_type": "stream",
     "text": [
      "\n",
      "Memory usage of dataframe is 5.26 MB\n",
      "Memory usage after optimization is: 1.77 MB\n",
      "Memory usage decreased by 66.3%\n"
     ]
    }
   ],
   "source": [
    "# default-of-credit-card-clients-datasets\n",
    "X, y = dict['datasets'][1], dict['dropped_columns'][1]['default.payment.next.month']\n",
    "X = reduce_mem_usage(X)\n",
    "#fencoding.initialize_types(X)"
   ]
  },
  {
   "cell_type": "code",
   "execution_count": 11,
   "metadata": {},
   "outputs": [],
   "source": [
    "emptyelim = EmptyElim(n_jobs= -1, chunks = None)\n",
    "fencoding = FEncoding(n_jobs = -1, chunks = None)\n",
    "outldetect = OutlDetect(outliers_detection_technique = 'iqr_proximity_rule', n_jobs = -1, \n",
    "                                                                             chunks = None)\n",
    "\n",
    "# For regression\n",
    "fimputation_rb = FImputation('regression-based', fill_with_value = None, n_jobs = -1, chunks = None)\n",
    "# For boosting\n",
    "fimputation_tb = FImputation('tree-based', fill_with_value = 'extreme_values', n_jobs = -1, chunks = None)"
   ]
  },
  {
   "cell_type": "code",
   "execution_count": 13,
   "metadata": {},
   "outputs": [
    {
     "name": "stdout",
     "output_type": "stream",
     "text": [
      "\n",
      " columns to drop: {}\n",
      "\n",
      " No time columns in the dataset\n",
      "\n",
      " No numerical columns in the dataset\n",
      "\n",
      " No numerical columns in the dataset\n"
     ]
    }
   ],
   "source": [
    "X = emptyelim.fit_transform(X)\n",
    "X = fencoding.date_replace(X)\n",
    "X = fencoding.encode_categor(X, method = 'OrdinalEncoder')\n",
    "X = outldetect.fit_transform(X)"
   ]
  },
  {
   "cell_type": "code",
   "execution_count": 14,
   "metadata": {},
   "outputs": [
    {
     "name": "stdout",
     "output_type": "stream",
     "text": [
      "\n",
      "Memory usage of dataframe is 5.26 MB\n",
      "Memory usage after optimization is: 1.00 MB\n",
      "Memory usage decreased by 81.0%\n",
      "\n",
      " Successfully saved to data/default_ucr_regression.csv\n",
      "\n",
      "Memory usage of dataframe is 5.26 MB\n",
      "Memory usage after optimization is: 1.00 MB\n",
      "Memory usage decreased by 81.0%\n",
      "\n",
      " Successfully saved to data/default_ucr_boosting.csv\n"
     ]
    }
   ],
   "source": [
    "XX = fimputation_rb.impute(X)\n",
    "XX = reduce_mem_usage(XX)\n",
    "save_to_csv(XX, y, path='data/default_ucr_regression.csv')\n",
    "\n",
    "XX = fimputation_tb.impute(X)\n",
    "XX = reduce_mem_usage(XX)\n",
    "save_to_csv(XX, y, path='data/default_ucr_boosting.csv')"
   ]
  },
  {
   "cell_type": "code",
   "execution_count": 15,
   "metadata": {},
   "outputs": [
    {
     "name": "stdout",
     "output_type": "stream",
     "text": [
      "\n",
      "Memory usage of dataframe is 90.91 MB\n",
      "Memory usage after optimization is: 90.91 MB\n",
      "Memory usage decreased by 0.0%\n"
     ]
    }
   ],
   "source": [
    "# home-credit-default-risk tables\n",
    "X, y = dict['datasets'][0], dict['dropped_columns'][0]['TARGET']\n",
    "X = reduce_mem_usage(X)\n",
    "#fencoding.initialize_types(X)"
   ]
  },
  {
   "cell_type": "code",
   "execution_count": 15,
   "metadata": {},
   "outputs": [],
   "source": [
    "emptyelim = EmptyElim(n_jobs= -1, chunks = None)\n",
    "fencoding = FEncoding(n_jobs = -1, chunks = None)\n",
    "outldetect = OutlDetect(outliers_detection_technique = 'iqr_proximity_rule', n_jobs = -1, \n",
    "                                                                             chunks = None)\n",
    "\n",
    "# For regression\n",
    "fimputation_rb = FImputation('regression-based', fill_with_value = None, n_jobs = -1, chunks = None)\n",
    "# For boosting\n",
    "fimputation_tb = FImputation('tree-based', fill_with_value = 'extreme_values', n_jobs = -1, chunks = None)"
   ]
  },
  {
   "cell_type": "code",
   "execution_count": 16,
   "metadata": {},
   "outputs": [
    {
     "name": "stdout",
     "output_type": "stream",
     "text": [
      "\n",
      " columns to drop: {}\n",
      "\n",
      " No time columns in the dataset\n",
      "\n",
      " No numerical columns in the dataset\n",
      "\n",
      " No numerical columns in the dataset\n"
     ]
    }
   ],
   "source": [
    "X = emptyelim.fit_transform(X)\n",
    "X = fencoding.date_replace(X)\n",
    "X = fencoding.encode_categor(X, method = 'OrdinalEncoder')\n",
    "X = outldetect.fit_transform(X)"
   ]
  },
  {
   "cell_type": "code",
   "execution_count": 17,
   "metadata": {},
   "outputs": [
    {
     "name": "stdout",
     "output_type": "stream",
     "text": [
      "\n",
      "Memory usage of dataframe is 5.26 MB\n",
      "Memory usage after optimization is: 1.00 MB\n",
      "Memory usage decreased by 81.0%\n",
      "\n",
      " Successfully saved to data/application_train_regression.csv\n",
      "\n",
      "Memory usage of dataframe is 5.26 MB\n",
      "Memory usage after optimization is: 1.00 MB\n",
      "Memory usage decreased by 81.0%\n",
      "\n",
      " Successfully saved to data/application_train_boosting.csv\n"
     ]
    }
   ],
   "source": [
    "XX = fimputation_rb.impute(X)\n",
    "XX = reduce_mem_usage(XX)\n",
    "save_to_csv(XX, y, path='data/application_train_regression.csv')\n",
    "\n",
    "XX = fimputation_tb.impute(X)\n",
    "XX = reduce_mem_usage(XX)\n",
    "save_to_csv(XX, y, path='data/application_train_boosting.csv')"
   ]
  },
  {
   "cell_type": "code",
   "execution_count": null,
   "metadata": {},
   "outputs": [],
   "source": []
  }
 ],
 "metadata": {
  "kernelspec": {
   "display_name": "Python 3",
   "language": "python",
   "name": "python3"
  },
  "language_info": {
   "codemirror_mode": {
    "name": "ipython",
    "version": 3
   },
   "file_extension": ".py",
   "mimetype": "text/x-python",
   "name": "python",
   "nbconvert_exporter": "python",
   "pygments_lexer": "ipython3",
   "version": "3.8.5"
  }
 },
 "nbformat": 4,
 "nbformat_minor": 4
}
