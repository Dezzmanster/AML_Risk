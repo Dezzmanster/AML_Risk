{
  "nbformat": 4,
  "nbformat_minor": 0,
  "metadata": {
    "colab": {
      "name": "FS_prom_lib.ipynb",
      "provenance": [],
      "collapsed_sections": []
    },
    "kernelspec": {
      "name": "python3",
      "display_name": "Python 3"
    },
    "accelerator": "TPU"
  },
  "cells": [
    {
      "cell_type": "code",
      "metadata": {
        "id": "mkNiwcPY7xXk"
      },
      "source": [
        "%load_ext autoreload\n",
        "%autoreload 2\n",
        "import selector\n",
        "import warnings\n",
        "warnings.filterwarnings('ignore')"
      ],
      "execution_count": 2,
      "outputs": []
    },
    {
      "cell_type": "code",
      "metadata": {
        "id": "FExzYEHr73hq"
      },
      "source": [
        "parameters = {\n",
        "    'path_data': 'drive/My Drive/tables/sample_feature_matrix_with_dates.csv', # путь до csv-файла, который подаётся на вход\n",
        "    'target': 'TARGET', # целевая переменная\n",
        "    'id': 'SK_ID_CURR', # уникальный ключ таблицы\n",
        "    'type': 'classification', # тип задачи ('classification' или 'regression')\n",
        "    'sep': ',', # разделитель в csv-файле\n",
        "    'n_jobs': -1, # количество потоков\n",
        "    'num_features': None, # количество признаков, которое необходимо отобрать\n",
        "    'threshold': 0.0001, # то, сколько AUC (for classification)/RMSE (for regression) не жалко потерять при отбрасывании одного признака\n",
        "    'output_file_name': 'drive/My Drive/tables/short_df_sample.csv' # путь, куда необходимо записать результирующий csv-файл\n",
        "}"
      ],
      "execution_count": 3,
      "outputs": []
    },
    {
      "cell_type": "code",
      "metadata": {
        "id": "WhAfE-im76ZT",
        "outputId": "0c041556-4658-406b-9906-04ef707289d3",
        "colab": {
          "base_uri": "https://localhost:8080/",
          "height": 52
        }
      },
      "source": [
        "%%time\n",
        "fs = selector.FeatureSelector(parameters)\n",
        "fs.create_dataframes()\n",
        "fs.get_feature_by_shap()\n",
        "fs.one_factor_calculate_score()\n",
        "fs.one_factor_selection()"
      ],
      "execution_count": 4,
      "outputs": [
        {
          "output_type": "stream",
          "text": [
            "CPU times: user 5min 9s, sys: 1.38 s, total: 5min 11s\n",
            "Wall time: 2min 49s\n"
          ],
          "name": "stdout"
        }
      ]
    },
    {
      "cell_type": "code",
      "metadata": {
        "id": "tSmHjIEPFBqh"
      },
      "source": [
        ""
      ],
      "execution_count": 4,
      "outputs": []
    }
  ]
}