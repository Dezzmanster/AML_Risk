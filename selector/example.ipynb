{
  "nbformat": 4,
  "nbformat_minor": 0,
  "metadata": {
    "colab": {
      "name": "FS_prom_lib.ipynb",
      "provenance": [],
      "collapsed_sections": []
    },
    "kernelspec": {
      "name": "python3",
      "display_name": "Python 3"
    },
    "accelerator": "TPU"
  },
  "cells": [
    {
      "cell_type": "code",
      "metadata": {
        "id": "mkNiwcPY7xXk"
      },
      "source": [
        "%load_ext autoreload\n",
        "%autoreload 2\n",
        "import selector2\n",
        "import warnings\n",
        "warnings.filterwarnings('ignore')"
      ],
      "execution_count": 2,
      "outputs": []
    },
    {
      "cell_type": "code",
      "metadata": {
        "id": "FExzYEHr73hq"
      },
      "source": [
        "parameters = {\n",
        "    'path_data': 'drive/My Drive/tables/res_fm_11_27_with_target.csv', # путь до csv-файла, который подаётся на вход\n",
        "    'target': 'TARGET', # целевая переменная\n",
        "    'sep': ',', # разделитель в csv-файле\n",
        "    'n_jobs': -1, # количество потоков\n",
        "    'num_features': None, # количество признаков, которое необходимо отобрать\n",
        "    'output_file_name': 'drive/My Drive/tables/short_df.csv' # путь, куда необходимо записать результирующий csv-файл\n",
        "}"
      ],
      "execution_count": 3,
      "outputs": []
    },
    {
      "cell_type": "code",
      "metadata": {
        "id": "WhAfE-im76ZT",
        "outputId": "1816a8ec-941d-46bc-a505-2f8e66608e90",
        "colab": {
          "base_uri": "https://localhost:8080/",
          "height": 52
        }
      },
      "source": [
        "%%time\n",
        "fs = selector2.FeatureSelector(parameters)\n",
        "fs.create_dataframes()\n",
        "fs.get_feature_by_shap()\n",
        "fs.one_factor_calculate_score()\n",
        "fs.one_factor_selection()"
      ],
      "execution_count": 4,
      "outputs": [
        {
          "output_type": "stream",
          "text": [
            "CPU times: user 1h 2s, sys: 43.2 s, total: 1h 45s\n",
            "Wall time: 33min 17s\n"
          ],
          "name": "stdout"
        }
      ]
    },
    {
      "cell_type": "code",
      "metadata": {
        "id": "Z0WAv6Pt8Sgb"
      },
      "source": [
        ""
      ],
      "execution_count": null,
      "outputs": []
    }
  ]
}