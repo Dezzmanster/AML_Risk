{
  "nbformat": 4,
  "nbformat_minor": 0,
  "metadata": {
    "colab": {
      "name": "FS_prom_lib.ipynb",
      "provenance": [],
      "collapsed_sections": []
    },
    "kernelspec": {
      "name": "python3",
      "display_name": "Python 3"
    },
    "accelerator": "TPU"
  },
  "cells": [
    {
      "cell_type": "code",
      "metadata": {
        "id": "mkNiwcPY7xXk"
      },
      "source": [
        "%load_ext autoreload\n",
        "%autoreload 2\n",
        "import selector\n",
        "import warnings\n",
        "warnings.filterwarnings('ignore')"
      ],
      "execution_count": 2,
      "outputs": []
    },
    {
      "cell_type": "code",
      "metadata": {
        "id": "FExzYEHr73hq"
      },
      "source": [
        "parameters = {\n",
        "    'path_data': 'drive/My Drive/tables/sample_feature_matrix_with_dates.csv', # путь до csv-файла, который подаётся на вход\n",
        "    'target': 'TARGET', # целевая переменная\n",
        "    'id': 'SK_ID_CURR', # уникальный ключ таблицы\n",
        "    'sep': ',', # разделитель в csv-файле\n",
        "    'n_jobs': -1, # количество потоков\n",
        "    'num_features': None, # количество признаков, которое необходимо отобрать\n",
        "    'output_file_name': 'drive/My Drive/tables/short_df_sample.csv' # путь, куда необходимо записать результирующий csv-файл\n",
        "}"
      ],
      "execution_count": 4,
      "outputs": []
    },
    {
      "cell_type": "code",
      "metadata": {
        "id": "WhAfE-im76ZT",
        "outputId": "bf240a3e-a704-4fc2-de02-7d18a42cb466",
        "colab": {
          "base_uri": "https://localhost:8080/",
          "height": 52
        }
      },
      "source": [
        "%%time\n",
        "fs = selector.FeatureSelector(parameters)\n",
        "fs.create_dataframes()\n",
        "fs.get_feature_by_shap()\n",
        "fs.one_factor_calculate_score()\n",
        "fs.one_factor_selection()"
      ],
      "execution_count": 5,
      "outputs": [
        {
          "output_type": "stream",
          "text": [
            "CPU times: user 5min 8s, sys: 1.32 s, total: 5min 9s\n",
            "Wall time: 2min 52s\n"
          ],
          "name": "stdout"
        }
      ]
    },
    {
      "cell_type": "code",
      "metadata": {
        "id": "d7I381Udvmo8"
      },
      "source": [
        ""
      ],
      "execution_count": null,
      "outputs": []
    }
  ]
}