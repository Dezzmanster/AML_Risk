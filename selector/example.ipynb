{
  "nbformat": 4,
  "nbformat_minor": 0,
  "metadata": {
    "colab": {
      "name": "FS_prom_lib.ipynb",
      "provenance": [],
      "collapsed_sections": []
    },
    "kernelspec": {
      "name": "python3",
      "display_name": "Python 3"
    },
    "accelerator": "TPU"
  },
  "cells": [
    {
      "cell_type": "code",
      "metadata": {
        "id": "mkNiwcPY7xXk"
      },
      "source": [
        "%load_ext autoreload\n",
        "%autoreload 2\n",
        "import selector\n",
        "import warnings\n",
        "warnings.filterwarnings('ignore')"
      ],
      "execution_count": 1,
      "outputs": []
    },
    {
      "cell_type": "code",
      "metadata": {
        "id": "FExzYEHr73hq"
      },
      "source": [
        "parameters = {\n",
        "    'path_data': 'drive/My Drive/tables/sample_feature_matrix_with_dates.csv', # путь до csv-файла, который подаётся на вход\n",
        "    'target': 'TARGET', # целевая переменная\n",
        "    'id': 'SK_ID_CURR', # уникальный ключ таблицы\n",
        "    'type': 'classification', # тип задачи ('classification' или 'regression')\n",
        "    'sep': ',', # разделитель в csv-файле\n",
        "    'n_jobs': -1, # количество потоков\n",
        "    'num_features': None, # количество признаков, которое необходимо отобрать\n",
        "    'threshold': 0.0001, # то, сколько AUC (for classification)/RMSE (for regression) не жалко потерять при отбрасывании одного признака\n",
        "    'output_file_name': 'drive/My Drive/tables/short_df_sample.csv' # путь, куда необходимо записать результирующий csv-файл\n",
        "}"
      ],
      "execution_count": 2,
      "outputs": []
    },
    {
      "cell_type": "code",
      "metadata": {
        "id": "WhAfE-im76ZT",
        "outputId": "2d8603a6-ea39-419d-f1c8-18625a5c43a2",
        "colab": {
          "base_uri": "https://localhost:8080/",
          "height": 52
        }
      },
      "source": [
        "%%time\n",
        "fs = selector.FeatureSelector(parameters)\n",
        "fs()"
      ],
      "execution_count": 3,
      "outputs": [
        {
          "output_type": "stream",
          "text": [
            "CPU times: user 5min 13s, sys: 1.88 s, total: 5min 14s\n",
            "Wall time: 2min 44s\n"
          ],
          "name": "stdout"
        }
      ]
    },
    {
      "cell_type": "code",
      "metadata": {
        "id": "tSmHjIEPFBqh"
      },
      "source": [
        ""
      ],
      "execution_count": 4,
      "outputs": []
    }
  ]
}